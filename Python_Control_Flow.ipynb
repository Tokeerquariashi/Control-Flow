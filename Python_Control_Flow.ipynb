{
  "nbformat": 4,
  "nbformat_minor": 0,
  "metadata": {
    "colab": {
      "provenance": []
    },
    "kernelspec": {
      "name": "python3",
      "display_name": "Python 3"
    },
    "language_info": {
      "name": "python"
    }
  },
  "cells": [
    {
      "cell_type": "code",
      "execution_count": null,
      "metadata": {
        "id": "9Iscq-FfQ70y"
      },
      "outputs": [],
      "source": [
        "#Control Flow Assignment Questions"
      ]
    },
    {
      "cell_type": "code",
      "source": [
        "#Basic If-Else Statements:"
      ],
      "metadata": {
        "id": "TgLZqv0yWpiB"
      },
      "execution_count": null,
      "outputs": []
    },
    {
      "cell_type": "code",
      "source": [
        "#1. Write a Python program to check if a given number is positive or negative.\n",
        "# Take user input\n",
        "num = float(input(\"Enter a number: \"))\n",
        "\n",
        "# Check if the number is positive, negative, or zero\n",
        "if num > 0:\n",
        "    print(\"The number is positive.\")\n",
        "elif num < 0:\n",
        "    print(\"The number is negative.\")\n",
        "else:\n",
        "    print(\"The number is zero.\")\n"
      ],
      "metadata": {
        "colab": {
          "base_uri": "https://localhost:8080/"
        },
        "id": "34ipo_uGWtWG",
        "outputId": "ed437f41-1316-41f4-e609-963ce2beff10"
      },
      "execution_count": 1,
      "outputs": [
        {
          "output_type": "stream",
          "name": "stdout",
          "text": [
            "Enter a number: 5\n",
            "The number is positive.\n"
          ]
        }
      ]
    },
    {
      "cell_type": "markdown",
      "source": [
        "Explanation:\n",
        "The program takes a number as input from the user.\n",
        "It checks whether the number is greater than 0 (positive), less than 0 (negative), or exactly 0.\n",
        "It prints the appropriate message based on the condition."
      ],
      "metadata": {
        "id": "HyzoI7iZXENF"
      }
    },
    {
      "cell_type": "code",
      "source": [
        "#2. Create a program that determines if a person is eligible to vote based on their age.\n",
        "# Take user input for age\n",
        "age = int(input(\"Enter your age: \"))\n",
        "\n",
        "# Check voting eligibility\n",
        "if age >= 18:\n",
        "    print(\"You are eligible to vote.\")\n",
        "else:\n",
        "    print(\"You are not eligible to vote.\")\n"
      ],
      "metadata": {
        "colab": {
          "base_uri": "https://localhost:8080/"
        },
        "id": "BxCp1S8pXFMy",
        "outputId": "3eed9a52-d173-4b6e-bfbc-bf0a5da47da1"
      },
      "execution_count": 2,
      "outputs": [
        {
          "output_type": "stream",
          "name": "stdout",
          "text": [
            "Enter your age: 20\n",
            "You are eligible to vote.\n"
          ]
        }
      ]
    },
    {
      "cell_type": "markdown",
      "source": [
        "Explanation:\n",
        "The program takes an integer input for the person's age.\n",
        "It checks if the age is 18 or above (eligible to vote) or below 18 (not eligible).\n",
        "The result is printed accordingly."
      ],
      "metadata": {
        "id": "FepcSEeeXN_F"
      }
    },
    {
      "cell_type": "code",
      "source": [
        "#3. Develop a program to find the maximum of two numbers using if-else statements.\n",
        "# Take user input for two numbers\n",
        "num1 = float(input(\"Enter the first number: \"))\n",
        "num2 = float(input(\"Enter the second number: \"))\n",
        "\n",
        "# Determine the maximum number\n",
        "if num1 > num2:\n",
        "    print(f\"The maximum number is: {num1}\")\n",
        "elif num2 > num1:\n",
        "    print(f\"The maximum number is: {num2}\")\n",
        "else:\n",
        "    print(\"Both numbers are equal.\")\n"
      ],
      "metadata": {
        "colab": {
          "base_uri": "https://localhost:8080/"
        },
        "id": "TESy5V-LXQ9e",
        "outputId": "93887f33-ef98-4edd-8ec6-09041d92f159"
      },
      "execution_count": 3,
      "outputs": [
        {
          "output_type": "stream",
          "name": "stdout",
          "text": [
            "Enter the first number: 10\n",
            "Enter the second number: 20\n",
            "The maximum number is: 20.0\n"
          ]
        }
      ]
    },
    {
      "cell_type": "markdown",
      "source": [
        "Explanation:\n",
        "The program takes two numbers as input.\n",
        "It checks which number is greater using if-else conditions.\n",
        "If both numbers are equal, it prints a message stating they are equal."
      ],
      "metadata": {
        "id": "RfC3eo9IXcFM"
      }
    },
    {
      "cell_type": "code",
      "source": [
        "#4. Write a Python script to classify a given year as a leap year or not.\n",
        "# Take user input for the year\n",
        "year = int(input(\"Enter a year: \"))\n",
        "\n",
        "# Check if the year is a leap year\n",
        "if (year % 4 == 0 and year % 100 != 0) or (year % 400 == 0):\n",
        "    print(f\"{year} is a leap year.\")\n",
        "else:\n",
        "    print(f\"{year} is not a leap year.\")\n"
      ],
      "metadata": {
        "colab": {
          "base_uri": "https://localhost:8080/"
        },
        "id": "HaF52wdIXfJ6",
        "outputId": "b0e1cb93-5564-4c6d-d38c-9940e6affa5f"
      },
      "execution_count": 4,
      "outputs": [
        {
          "output_type": "stream",
          "name": "stdout",
          "text": [
            "Enter a year: 2024\n",
            "2024 is a leap year.\n"
          ]
        }
      ]
    },
    {
      "cell_type": "markdown",
      "source": [
        "Explanation:\n",
        "A year is a leap year if:\n",
        "It is divisible by 4 but not by 100, or\n",
        "It is divisible by 400.\n",
        "The program takes an input year and checks these conditions using an if-else statement."
      ],
      "metadata": {
        "id": "G-ir9cKOXqPN"
      }
    },
    {
      "cell_type": "code",
      "source": [
        "#5. Create a program that checks whether a character is a vowel or a consonant.\n",
        "# Take user input for a character\n",
        "char = input(\"Enter a character: \").lower()  # Convert input to lowercase\n",
        "\n",
        "# Check if the input is a single alphabet character\n",
        "if len(char) == 1 and char.isalpha():\n",
        "    if char in \"aeiou\":\n",
        "        print(f\"{char} is a vowel.\")\n",
        "    else:\n",
        "        print(f\"{char} is a consonant.\")\n",
        "else:\n",
        "    print(\"Invalid input! Please enter a single alphabet character.\")\n"
      ],
      "metadata": {
        "colab": {
          "base_uri": "https://localhost:8080/"
        },
        "id": "fuTt-R6sXq0i",
        "outputId": "6027569b-e5ef-40f0-fb67-0ef6e7967406"
      },
      "execution_count": 5,
      "outputs": [
        {
          "output_type": "stream",
          "name": "stdout",
          "text": [
            "Enter a character: A\n",
            "a is a vowel.\n"
          ]
        }
      ]
    },
    {
      "cell_type": "markdown",
      "source": [
        "Explanation:\n",
        "The program converts the input to lowercase to handle both uppercase and lowercase characters.\n",
        "It checks if the input is a single alphabet character.\n",
        "If the character is in \"aeiou\", it is a vowel; otherwise, it is a consonant."
      ],
      "metadata": {
        "id": "M5x1q1QFX0f0"
      }
    },
    {
      "cell_type": "code",
      "source": [
        "#6. Implement a program to determine whether a given number is even or odd.\n",
        "# Take user input\n",
        "num = int(input(\"Enter a number: \"))\n",
        "\n",
        "# Check if the number is even or odd\n",
        "if num % 2 == 0:\n",
        "    print(f\"{num} is an even number.\")\n",
        "else:\n",
        "    print(f\"{num} is an odd number.\")\n"
      ],
      "metadata": {
        "colab": {
          "base_uri": "https://localhost:8080/"
        },
        "id": "tuiagQFuX1B7",
        "outputId": "be9fde7a-329c-4403-9dce-6d4f7da216f1"
      },
      "execution_count": 6,
      "outputs": [
        {
          "output_type": "stream",
          "name": "stdout",
          "text": [
            "Enter a number: 8\n",
            "8 is an even number.\n"
          ]
        }
      ]
    },
    {
      "cell_type": "markdown",
      "source": [
        "Explanation:\n",
        "The program takes an integer input from the user.\n",
        "It checks whether the number is divisible by 2 using the modulus operator %.\n",
        "If num % 2 == 0, it is even.\n",
        "Otherwise, it is odd."
      ],
      "metadata": {
        "id": "tUUcy4DaX826"
      }
    },
    {
      "cell_type": "code",
      "source": [
        "#7. Write a Python function to calculate the absolute value of a number without using the `abs()` function.\n",
        "def absolute_value(num):\n",
        "    return num if num >= 0 else -num\n",
        "\n",
        "# Take user input\n",
        "number = float(input(\"Enter a number: \"))\n",
        "\n",
        "# Print the absolute value\n",
        "print(f\"The absolute value of {number} is {absolute_value(number)}\")\n"
      ],
      "metadata": {
        "colab": {
          "base_uri": "https://localhost:8080/"
        },
        "id": "bSXkbBhXX-va",
        "outputId": "eb2c188d-e70e-478b-e0f7-e6f0577f4d33"
      },
      "execution_count": 7,
      "outputs": [
        {
          "output_type": "stream",
          "name": "stdout",
          "text": [
            "Enter a number: -7\n",
            "The absolute value of -7.0 is 7.0\n"
          ]
        }
      ]
    },
    {
      "cell_type": "markdown",
      "source": [
        "Explanation:\n",
        "If the number is greater than or equal to 0, return the number as is.\n",
        "If the number is negative, multiply it by -1 to convert it to positive."
      ],
      "metadata": {
        "id": "SHyrbG_EYJKR"
      }
    },
    {
      "cell_type": "code",
      "source": [
        "#8. Develop a program that determines the largest of three given numbers using if-else statements.\n",
        "# Take three numbers as input from the user\n",
        "num1 = float(input(\"Enter first number: \"))\n",
        "num2 = float(input(\"Enter second number: \"))\n",
        "num3 = float(input(\"Enter third number: \"))\n",
        "\n",
        "# Determine the largest number using if-else statements\n",
        "if num1 >= num2 and num1 >= num3:\n",
        "    largest = num1\n",
        "elif num2 >= num1 and num2 >= num3:\n",
        "    largest = num2\n",
        "else:\n",
        "    largest = num3\n",
        "\n",
        "# Print the largest number\n",
        "print(f\"The largest number is: {largest}\")\n"
      ],
      "metadata": {
        "colab": {
          "base_uri": "https://localhost:8080/"
        },
        "id": "I3ITUNIqYJpZ",
        "outputId": "cb80dd97-350b-43fd-af31-bc84b15ba1a9"
      },
      "execution_count": 8,
      "outputs": [
        {
          "output_type": "stream",
          "name": "stdout",
          "text": [
            "Enter first number: 45\n",
            "Enter second number: 78\n",
            "Enter third number: 32\n",
            "The largest number is: 78.0\n"
          ]
        }
      ]
    },
    {
      "cell_type": "markdown",
      "source": [
        "Explanation:\n",
        "The program takes three numbers as input.\n",
        "It checks:\n",
        "If num1 is greater than or equal to both num2 and num3, it is the largest.\n",
        "Else, if num2 is greater than or equal to both num1 and num3, it is the largest.\n",
        "Otherwise, num3 is the largest.\n",
        "The program prints the largest number."
      ],
      "metadata": {
        "id": "LgA7v48RYT_0"
      }
    },
    {
      "cell_type": "code",
      "source": [
        "#9. Create a program that checks if a given string is a palindrome.\n",
        "def is_palindrome(s):\n",
        "    s = s.lower().replace(\" \", \"\")  # Convert to lowercase and remove spaces\n",
        "    return s == s[::-1]  # Compare the string with its reverse\n",
        "\n",
        "# Example usage\n",
        "string = input(\"Enter a string: \")\n",
        "if is_palindrome(string):\n",
        "    print(\"The string is a palindrome.\")\n",
        "else:\n",
        "    print(\"The string is not a palindrome.\")\n"
      ],
      "metadata": {
        "colab": {
          "base_uri": "https://localhost:8080/"
        },
        "id": "Fsn35ph7YaaE",
        "outputId": "e5a1c946-3f45-49fe-ff8c-b77ce702d6a3"
      },
      "execution_count": 9,
      "outputs": [
        {
          "output_type": "stream",
          "name": "stdout",
          "text": [
            "Enter a string: \"Madam\"\n",
            "The string is a palindrome.\n"
          ]
        }
      ]
    },
    {
      "cell_type": "markdown",
      "source": [
        "This program:\n",
        "\n",
        "Converts the input string to lowercase.\n",
        "Removes spaces to handle multi-word palindromes.\n",
        "Compares the string with its reverse (s[::-1]).\n",
        "Prints whether the string is a palindrome or not."
      ],
      "metadata": {
        "id": "nTyUSy14YpER"
      }
    },
    {
      "cell_type": "code",
      "source": [
        "#10. Write a Python program to calculate the grade based on a student's score.\n",
        "def calculate_grade(score):\n",
        "    if score >= 90:\n",
        "        return 'A'\n",
        "    elif score >= 80:\n",
        "        return 'B'\n",
        "    elif score >= 70:\n",
        "        return 'C'\n",
        "    elif score >= 60:\n",
        "        return 'D'\n",
        "    else:\n",
        "        return 'F'\n",
        "\n",
        "# Example usage\n",
        "score = float(input(\"Enter the student's score: \"))\n",
        "grade = calculate_grade(score)\n",
        "\n",
        "print(f\"The student's grade is: {grade}\")\n"
      ],
      "metadata": {
        "colab": {
          "base_uri": "https://localhost:8080/"
        },
        "id": "p86WXHIAYrWY",
        "outputId": "c4e24f72-114a-4607-e803-7287da5850d0"
      },
      "execution_count": 10,
      "outputs": [
        {
          "output_type": "stream",
          "name": "stdout",
          "text": [
            "Enter the student's score: 85\n",
            "The student's grade is: B\n"
          ]
        }
      ]
    },
    {
      "cell_type": "markdown",
      "source": [
        "Explanation:\n",
        "The function calculate_grade(score) takes the student's score as input.\n",
        "It checks which grade the score corresponds to based on predefined ranges (A for scores 90 and above, B for 80-89, etc.).\n",
        "It prints the grade based on the student's score."
      ],
      "metadata": {
        "id": "2azN5oofYzAF"
      }
    },
    {
      "cell_type": "code",
      "source": [
        "#Nested If-Else Statements:"
      ],
      "metadata": {
        "id": "vlkXiW-DYzuK"
      },
      "execution_count": null,
      "outputs": []
    },
    {
      "cell_type": "code",
      "source": [
        "#11. Write a program to find the largest among three numbers using nested if-else statements.\n",
        "def find_largest(num1, num2, num3):\n",
        "    if num1 >= num2:\n",
        "        if num1 >= num3:\n",
        "            return num1  # num1 is the largest\n",
        "        else:\n",
        "            return num3  # num3 is the largest\n",
        "    else:\n",
        "        if num2 >= num3:\n",
        "            return num2  # num2 is the largest\n",
        "        else:\n",
        "            return num3  # num3 is the largest\n",
        "\n",
        "# Example usage\n",
        "num1 = float(input(\"Enter the first number: \"))\n",
        "num2 = float(input(\"Enter the second number: \"))\n",
        "num3 = float(input(\"Enter the third number: \"))\n",
        "\n",
        "largest = find_largest(num1, num2, num3)\n",
        "print(f\"The largest number is: {largest}\")\n"
      ],
      "metadata": {
        "colab": {
          "base_uri": "https://localhost:8080/"
        },
        "id": "CETCy7QUY3JA",
        "outputId": "15d8e886-7cda-4ebd-af88-c9794b8413bf"
      },
      "execution_count": 11,
      "outputs": [
        {
          "output_type": "stream",
          "name": "stdout",
          "text": [
            "Enter the first number: 12\n",
            "Enter the second number: 15\n",
            "Enter the third number: 10\n",
            "The largest number is: 15.0\n"
          ]
        }
      ]
    },
    {
      "cell_type": "markdown",
      "source": [
        "Explanation:\n",
        "The find_largest function checks if num1 is greater than or equal to num2.\n",
        "If num1 is greater, it checks whether num1 is also greater than or equal to num3.\n",
        "If the condition is true, num1 is returned as the largest. If not, num3 is returned as the largest.\n",
        "If num1 is not greater than num2, the program compares num2 with num3 to find the largest."
      ],
      "metadata": {
        "id": "ooOupe5XZA6J"
      }
    },
    {
      "cell_type": "code",
      "source": [
        "#12. Implement a program to determine if a triangle is equilateral, isosceles, or scalene.\n",
        "def triangle_type(a, b, c):\n",
        "    if a <= 0 or b <= 0 or c <= 0:\n",
        "        return \"Invalid side lengths, sides must be positive.\"\n",
        "\n",
        "    if a == b == c:\n",
        "        return \"Equilateral triangle\"  # All sides are equal\n",
        "    elif a == b or b == c or a == c:\n",
        "        return \"Isosceles triangle\"  # Two sides are equal\n",
        "    else:\n",
        "        return \"Scalene triangle\"  # All sides are different\n",
        "\n",
        "# Example usage\n",
        "a = float(input(\"Enter the length of the first side: \"))\n",
        "b = float(input(\"Enter the length of the second side: \"))\n",
        "c = float(input(\"Enter the length of the third side: \"))\n",
        "\n",
        "result = triangle_type(a, b, c)\n",
        "print(result)\n"
      ],
      "metadata": {
        "colab": {
          "base_uri": "https://localhost:8080/"
        },
        "id": "p76FCf-yZBci",
        "outputId": "12667f2f-bb58-4032-945a-57946ba802fa"
      },
      "execution_count": 12,
      "outputs": [
        {
          "output_type": "stream",
          "name": "stdout",
          "text": [
            "Enter the length of the first side: 5\n",
            "Enter the length of the second side: 5\n",
            "Enter the length of the third side: 8\n",
            "Isosceles triangle\n"
          ]
        }
      ]
    },
    {
      "cell_type": "markdown",
      "source": [
        "Explanation:\n",
        "The triangle_type function first checks if any side is less than or equal to zero, which would make the triangle invalid.\n",
        "It checks if all sides are equal to determine if the triangle is equilateral.\n",
        "If exactly two sides are equal, the triangle is isosceles.\n",
        "If all three sides are different, the triangle is scalene."
      ],
      "metadata": {
        "id": "R9SZHUCzZM4K"
      }
    },
    {
      "cell_type": "code",
      "source": [
        "#def check_year(year):\n",
        "def check_year(year):\n",
        "    if year % 400 == 0:\n",
        "        return f\"{year} is a leap year and a century year.\"\n",
        "    elif year % 100 == 0:\n",
        "        return f\"{year} is a century year but not a leap year.\"\n",
        "    elif year % 4 == 0:\n",
        "        return f\"{year} is a leap year.\"\n",
        "    else:\n",
        "        return f\"{year} is not a leap year.\"\n",
        "\n",
        "# Example usage\n",
        "year = int(input(\"Enter a year: \"))\n",
        "result = check_year(year)\n",
        "print(result)\n",
        "\n"
      ],
      "metadata": {
        "colab": {
          "base_uri": "https://localhost:8080/"
        },
        "id": "ifeyw2YIZNPr",
        "outputId": "d1968d9d-91ef-48d3-d5ea-dfc5acfbbc69"
      },
      "execution_count": 14,
      "outputs": [
        {
          "output_type": "stream",
          "name": "stdout",
          "text": [
            "Enter a year: 200\n",
            "200 is a century year but not a leap year.\n"
          ]
        }
      ]
    },
    {
      "cell_type": "markdown",
      "source": [
        "Explanation:\n",
        "Century Year Check: If the year is divisible by 400, it’s both a leap year and a century year (e.g., 2000).\n",
        "If it's divisible by 100 but not 400, it's a century year but not a leap year (e.g., 1900).\n",
        "Leap Year Check: If the year is divisible by 4 but not by 100, it's a leap year (e.g., 2024).\n",
        "If none of the above conditions are true, the year is not a leap year."
      ],
      "metadata": {
        "id": "YJunC7SWbPHg"
      }
    },
    {
      "cell_type": "code",
      "source": [
        "#14. Write a Python script to determine if a number is positive, negative, or zero.\n",
        "def check_number(num):\n",
        "    if num > 0:\n",
        "        return f\"{num} is a positive number.\"\n",
        "    elif num < 0:\n",
        "        return f\"{num} is a negative number.\"\n",
        "    else:\n",
        "        return f\"{num} is zero.\"\n",
        "\n",
        "# Example usage\n",
        "num = float(input(\"Enter a number: \"))\n",
        "result = check_number(num)\n",
        "print(result)\n"
      ],
      "metadata": {
        "colab": {
          "base_uri": "https://localhost:8080/"
        },
        "id": "2cP-eHY8bQ9p",
        "outputId": "c5440a12-608a-43a7-ded9-480e906c0463"
      },
      "execution_count": 15,
      "outputs": [
        {
          "output_type": "stream",
          "name": "stdout",
          "text": [
            "Enter a number: 5\n",
            "5.0 is a positive number.\n"
          ]
        }
      ]
    },
    {
      "cell_type": "markdown",
      "source": [
        "Explanation:\n",
        "The check_number function checks if the number is greater than zero, less than zero, or exactly zero.\n",
        "It returns a message indicating whether the number is positive, negative, or zero."
      ],
      "metadata": {
        "id": "EyroUptObZc_"
      }
    },
    {
      "cell_type": "code",
      "source": [
        "#15. Create a program to check if a person is a teenager (between 13 and 19 years old).\n",
        "def check_teenager(age):\n",
        "    if 13 <= age <= 19:\n",
        "        return f\"The person is a teenager (age {age}).\"\n",
        "    else:\n",
        "        return f\"The person is not a teenager (age {age}).\"\n",
        "\n",
        "# Example usage\n",
        "age = int(input(\"Enter the person's age: \"))\n",
        "result = check_teenager(age)\n",
        "print(result)\n"
      ],
      "metadata": {
        "colab": {
          "base_uri": "https://localhost:8080/"
        },
        "id": "vwifNO-wbZ6V",
        "outputId": "a5c027e5-534a-43bc-d769-955820ca3c2b"
      },
      "execution_count": 16,
      "outputs": [
        {
          "output_type": "stream",
          "name": "stdout",
          "text": [
            "Enter the person's age: 15\n",
            "The person is a teenager (age 15).\n"
          ]
        }
      ]
    },
    {
      "cell_type": "markdown",
      "source": [
        "Explanation:\n",
        "The check_teenager function checks if the age is between 13 and 19 (inclusive).\n",
        "It returns a message indicating whether the person is a teenager or not based on the age entered."
      ],
      "metadata": {
        "id": "s64T5K5cbmTm"
      }
    },
    {
      "cell_type": "code",
      "source": [
        "#16. Develop a program that determines the type of angle based on its measure (acute, obtuse, or right).\n",
        "def angle_type(angle):\n",
        "    if angle < 90:\n",
        "        return f\"The angle is acute (less than 90°).\"\n",
        "    elif angle == 90:\n",
        "        return f\"The angle is right (exactly 90°).\"\n",
        "    elif angle > 90 and angle < 180:\n",
        "        return f\"The angle is obtuse (greater than 90° but less than 180°).\"\n",
        "    else:\n",
        "        return f\"The angle is invalid. Please enter a value between 0° and 180°.\"\n",
        "\n",
        "# Example usage\n",
        "angle = float(input(\"Enter the angle in degrees: \"))\n",
        "result = angle_type(angle)\n",
        "print(result)\n"
      ],
      "metadata": {
        "colab": {
          "base_uri": "https://localhost:8080/"
        },
        "id": "gu6nWFqgbmtw",
        "outputId": "4bbed617-8a1a-4ff3-8067-e80795d6494b"
      },
      "execution_count": 17,
      "outputs": [
        {
          "output_type": "stream",
          "name": "stdout",
          "text": [
            "Enter the angle in degrees: 45\n",
            "The angle is acute (less than 90°).\n"
          ]
        }
      ]
    },
    {
      "cell_type": "markdown",
      "source": [
        "Explanation:\n",
        "The angle_type function checks:\n",
        "If the angle is less than 90°, it is an acute angle.\n",
        "If the angle is exactly 90°, it is a right angle.\n",
        "If the angle is greater than 90° but less than 180°, it is an obtuse angle.\n",
        "If the angle is outside the valid range (0° to 180°), it returns an \"invalid\" message.\n"
      ],
      "metadata": {
        "id": "V5ESrWNEbvq3"
      }
    },
    {
      "cell_type": "code",
      "source": [
        "#17. Write a Python program to calculate the roots of a quadratic equation.\n",
        "import cmath  # To handle complex numbers\n",
        "\n",
        "def calculate_roots(a, b, c):\n",
        "    # Calculate the discriminant\n",
        "    discriminant = (b**2) - (4*a*c)\n",
        "\n",
        "    # Calculate two roots using the quadratic formula\n",
        "    root1 = (-b + cmath.sqrt(discriminant)) / (2 * a)\n",
        "    root2 = (-b - cmath.sqrt(discriminant)) / (2 * a)\n",
        "\n",
        "    return root1, root2\n",
        "\n",
        "# Example usage\n",
        "a = float(input(\"Enter the coefficient a: \"))\n",
        "b = float(input(\"Enter the coefficient b: \"))\n",
        "c = float(input(\"Enter the coefficient c: \"))\n",
        "\n",
        "if a == 0:\n",
        "    print(\"The value of 'a' cannot be zero in a quadratic equation.\")\n",
        "else:\n",
        "    root1, root2 = calculate_roots(a, b, c)\n",
        "    print(f\"The roots of the equation are: {root1} and {root2}\")\n",
        "\n"
      ],
      "metadata": {
        "colab": {
          "base_uri": "https://localhost:8080/"
        },
        "id": "cuh904RdbwhN",
        "outputId": "52b0b0a7-a8e8-4890-dd59-cb17ef094758"
      },
      "execution_count": 18,
      "outputs": [
        {
          "output_type": "stream",
          "name": "stdout",
          "text": [
            "Enter the coefficient a: 1\n",
            "Enter the coefficient b: -3\n",
            "Enter the coefficient c: 2\n",
            "The roots of the equation are: (2+0j) and (1+0j)\n"
          ]
        }
      ]
    },
    {
      "cell_type": "code",
      "source": [
        "#18. Implement a program to determine the day of the week based on a user-provided number (1 for Monday, 2 for Tuesday, etc.).\n",
        "def day_of_week(number):\n",
        "    days = [\"Monday\", \"Tuesday\", \"Wednesday\", \"Thursday\", \"Friday\", \"Saturday\", \"Sunday\"]\n",
        "\n",
        "    if 1 <= number <= 7:\n",
        "        return f\"The day of the week is: {days[number - 1]}\"\n",
        "    else:\n",
        "        return \"Invalid input. Please enter a number between 1 and 7.\"\n",
        "\n",
        "# Example usage\n",
        "number = int(input(\"Enter a number (1 for Monday, 2 for Tuesday, etc.): \"))\n",
        "result = day_of_week(number)\n",
        "print(result)\n"
      ],
      "metadata": {
        "colab": {
          "base_uri": "https://localhost:8080/"
        },
        "id": "HOHfAcQecGqF",
        "outputId": "3a88ccb2-466c-49a8-b23e-9238bc58669c"
      },
      "execution_count": 19,
      "outputs": [
        {
          "output_type": "stream",
          "name": "stdout",
          "text": [
            "Enter a number (1 for Monday, 2 for Tuesday, etc.): 3\n",
            "The day of the week is: Wednesday\n"
          ]
        }
      ]
    },
    {
      "cell_type": "markdown",
      "source": [
        "Explanation:\n",
        "The day_of_week function uses a list called days to map the numbers 1 to 7 to the days of the week.\n",
        "It checks if the number is between 1 and 7. If so, it returns the corresponding day of the week. Otherwise, it returns an error message."
      ],
      "metadata": {
        "id": "oDN0ZYhycPbe"
      }
    },
    {
      "cell_type": "code",
      "source": [
        "#19. Create a program that determines if a year is a leap year and also if it is evenly divisible by 400.\n",
        "def check_leap_and_century(year):\n",
        "    if year % 400 == 0:\n",
        "        return f\"{year} is a leap year and is evenly divisible by 400.\"\n",
        "    elif year % 4 == 0 and year % 100 != 0:\n",
        "        return f\"{year} is a leap year but not divisible by 400.\"\n",
        "    else:\n",
        "        return f\"{year} is not a leap year.\"\n",
        "\n",
        "# Example usage\n",
        "year = int(input(\"Enter a year: \"))\n",
        "result = check_leap_and_century(year)\n",
        "print(result)\n"
      ],
      "metadata": {
        "colab": {
          "base_uri": "https://localhost:8080/"
        },
        "id": "bv36m57PcP9v",
        "outputId": "a28e05c5-dba1-4c7f-f5b4-78ed62bbbd55"
      },
      "execution_count": 20,
      "outputs": [
        {
          "output_type": "stream",
          "name": "stdout",
          "text": [
            "Enter a year: 2000\n",
            "2000 is a leap year and is evenly divisible by 400.\n"
          ]
        }
      ]
    },
    {
      "cell_type": "markdown",
      "source": [
        "Explanation:\n",
        "Leap Year Check:\n",
        "\n",
        "If the year is divisible by 400, it is both a leap year and divisible by 400.\n",
        "If the year is divisible by 4 but not divisible by 100, it is a leap year but not divisible by 400.\n",
        "If the year is not divisible by 4, it is not a leap year.\n",
        "The program returns messages indicating whether the year is a leap year and if it is divisible by 400."
      ],
      "metadata": {
        "id": "vvEM_o9ScX-1"
      }
    },
    {
      "cell_type": "code",
      "source": [
        "#20. Develop a program that checks if a given number is prime or not using nested if-else statements.\n",
        "def is_prime(number):\n",
        "    if number > 1:\n",
        "        if number == 2:\n",
        "            return f\"{number} is a prime number.\"\n",
        "        else:\n",
        "            for i in range(2, int(number**0.5) + 1):\n",
        "                if number % i == 0:\n",
        "                    return f\"{number} is not a prime number.\"\n",
        "            return f\"{number} is a prime number.\"\n",
        "    else:\n",
        "        return f\"{number} is not a prime number.\"\n",
        "\n",
        "# Example usage\n",
        "number = int(input(\"Enter a number: \"))\n",
        "result = is_prime(number)\n",
        "print(result)\n"
      ],
      "metadata": {
        "colab": {
          "base_uri": "https://localhost:8080/"
        },
        "id": "jgdGieEZcYgk",
        "outputId": "dafce8a0-4696-4b05-a609-63e58f0c062a"
      },
      "execution_count": 21,
      "outputs": [
        {
          "output_type": "stream",
          "name": "stdout",
          "text": [
            "Enter a number: 7\n",
            "7 is a prime number.\n"
          ]
        }
      ]
    },
    {
      "cell_type": "markdown",
      "source": [
        "Explanation:\n",
        "Prime Number Check:\n",
        "If the number is less than or equal to 1, it is not a prime number.\n",
        "If the number is 2, it is prime (the only even prime number).\n",
        "For numbers greater than 2, the program checks divisibility from 2 up to the square root of the number (since factors beyond the square root will have corresponding smaller factors).\n",
        "If the number is divisible by any number in this range, it is not prime.\n",
        "If no divisor is found, the number is prime."
      ],
      "metadata": {
        "id": "R1pAd5akcgqe"
      }
    },
    {
      "cell_type": "code",
      "source": [
        "#Elif Statements:"
      ],
      "metadata": {
        "id": "7dzgG3oWchCV"
      },
      "execution_count": null,
      "outputs": []
    },
    {
      "cell_type": "code",
      "source": [
        "#21. Write a Python program to assign grades based on different ranges of scores using elif statements.\n",
        "def assign_grade(score):\n",
        "    if score >= 90:\n",
        "        return \"Grade: A\"\n",
        "    elif score >= 80:\n",
        "        return \"Grade: B\"\n",
        "    elif score >= 70:\n",
        "        return \"Grade: C\"\n",
        "    elif score >= 60:\n",
        "        return \"Grade: D\"\n",
        "    elif score >= 50:\n",
        "        return \"Grade: E\"\n",
        "    else:\n",
        "        return \"Grade: F\"\n",
        "\n",
        "# Example usage\n",
        "score = float(input(\"Enter the score: \"))\n",
        "grade = assign_grade(score)\n",
        "print(grade)\n"
      ],
      "metadata": {
        "colab": {
          "base_uri": "https://localhost:8080/"
        },
        "id": "3l7PxuUgcsZ3",
        "outputId": "5ba49562-df11-4924-c093-4b55ada02a02"
      },
      "execution_count": 22,
      "outputs": [
        {
          "output_type": "stream",
          "name": "stdout",
          "text": [
            "Enter the score: 85\n",
            "Grade: B\n"
          ]
        }
      ]
    },
    {
      "cell_type": "markdown",
      "source": [
        "Explanation:\n",
        "Grade Assignment:\n",
        "\n",
        "The program uses elif to check which score range the input falls into and assigns the appropriate grade.\n",
        "If the score is:\n",
        "90 or higher: Grade A\n",
        "80 to 89: Grade B\n",
        "70 to 79: Grade C\n",
        "60 to 69: Grade D\n",
        "50 to 59: Grade E\n",
        "Below 50: Grade F\n",
        "The function returns the corresponding grade message based on the score."
      ],
      "metadata": {
        "id": "6IVwN03kc1zk"
      }
    },
    {
      "cell_type": "code",
      "source": [
        "#22. Implement a program to determine the type of a triangle based on its angles.\n",
        "def triangle_type_by_angles(angle1, angle2, angle3):\n",
        "    # Check if the sum of angles is 180, which is a requirement for any triangle\n",
        "    if angle1 + angle2 + angle3 != 180:\n",
        "        return \"The angles do not form a valid triangle.\"\n",
        "\n",
        "    # Check for different types of triangles based on angles\n",
        "    if angle1 == 90 or angle2 == 90 or angle3 == 90:\n",
        "        return \"The triangle is a right triangle.\"\n",
        "    elif angle1 > 90 or angle2 > 90 or angle3 > 90:\n",
        "        return \"The triangle is an obtuse triangle.\"\n",
        "    elif angle1 < 90 and angle2 < 90 and angle3 < 90:\n",
        "        return \"The triangle is an acute triangle.\"\n",
        "    else:\n",
        "        return \"Invalid input.\"\n",
        "\n",
        "# Example usage\n",
        "angle1 = float(input(\"Enter the first angle of the triangle: \"))\n",
        "angle2 = float(input(\"Enter the second angle of the triangle: \"))\n",
        "angle3 = float(input(\"Enter the third angle of the triangle: \"))\n",
        "\n",
        "result = triangle_type_by_angles(angle1, angle2, angle3)\n",
        "print(result)\n"
      ],
      "metadata": {
        "colab": {
          "base_uri": "https://localhost:8080/"
        },
        "id": "ntouL8gKc4lH",
        "outputId": "50b8c7b9-42c7-4f52-9097-da44ffa5164a"
      },
      "execution_count": 23,
      "outputs": [
        {
          "output_type": "stream",
          "name": "stdout",
          "text": [
            "Enter the first angle of the triangle: 60\n",
            "Enter the second angle of the triangle: 60\n",
            "Enter the third angle of the triangle: 60\n",
            "The triangle is an acute triangle.\n"
          ]
        }
      ]
    },
    {
      "cell_type": "markdown",
      "source": [
        "Explanation:\n",
        "Triangle Validity: First, the program checks if the sum of the three angles equals 180°. If not, it returns that the angles do not form a valid triangle.\n",
        "Triangle Type:\n",
        "If one of the angles is exactly 90°, the triangle is a right triangle.\n",
        "If any angle is greater than 90°, the triangle is an obtuse triangle.\n",
        "If all angles are less than 90°, the triangle is an acute triangle."
      ],
      "metadata": {
        "id": "izrXImKCdC49"
      }
    },
    {
      "cell_type": "code",
      "source": [
        "#23. Develop a program to categorize a given person's BMI into underweight, normal, overweight, or obese using elif statements.\n",
        "def categorize_bmi(weight, height):\n",
        "    # Calculate BMI\n",
        "    bmi = weight / (height ** 2)\n",
        "\n",
        "    # Categorize based on BMI value\n",
        "    if bmi < 18.5:\n",
        "        return f\"BMI: {bmi:.2f} - Underweight\"\n",
        "    elif 18.5 <= bmi < 24.9:\n",
        "        return f\"BMI: {bmi:.2f} - Normal weight\"\n",
        "    elif 25 <= bmi < 29.9:\n",
        "        return f\"BMI: {bmi:.2f} - Overweight\"\n",
        "    else:\n",
        "        return f\"BMI: {bmi:.2f} - Obese\"\n",
        "\n",
        "# Example usage\n",
        "weight = float(input(\"Enter your weight in kilograms: \"))\n",
        "height = float(input(\"Enter your height in meters: \"))\n",
        "\n",
        "result = categorize_bmi(weight, height)\n",
        "print(result)\n"
      ],
      "metadata": {
        "colab": {
          "base_uri": "https://localhost:8080/"
        },
        "id": "dPH770-OdDz8",
        "outputId": "9b6e3dfa-b028-4ed6-a984-d3c43f47ba25"
      },
      "execution_count": 24,
      "outputs": [
        {
          "output_type": "stream",
          "name": "stdout",
          "text": [
            "Enter your weight in kilograms: 70\n",
            "Enter your height in meters: 1.7\n",
            "BMI: 24.22 - Normal weight\n"
          ]
        }
      ]
    },
    {
      "cell_type": "code",
      "source": [
        "#24. Create a program that determines whether a given number is positive, negative, or zero using elif statements.\n",
        "def check_number_type(number):\n",
        "    if number > 0:\n",
        "        return f\"{number} is a positive number.\"\n",
        "    elif number < 0:\n",
        "        return f\"{number} is a negative number.\"\n",
        "    else:\n",
        "        return \"The number is zero.\"\n",
        "\n",
        "# Example usage\n",
        "number = float(input(\"Enter a number: \"))\n",
        "result = check_number_type(number)\n",
        "print(result)\n"
      ],
      "metadata": {
        "colab": {
          "base_uri": "https://localhost:8080/"
        },
        "id": "yblHGG0FdOYE",
        "outputId": "6becf88d-bdce-4ac4-e1cf-24b2c5423ca1"
      },
      "execution_count": 25,
      "outputs": [
        {
          "output_type": "stream",
          "name": "stdout",
          "text": [
            "Enter a number: 7\n",
            "7.0 is a positive number.\n"
          ]
        }
      ]
    },
    {
      "cell_type": "markdown",
      "source": [
        "Explanation:\n",
        "Positive Check: The program checks if the number is greater than 0. If true, it returns that the number is positive.\n",
        "Negative Check: If the number is less than 0, it returns that the number is negative.\n",
        "Zero Check: If the number is exactly 0, it returns that the number is zero."
      ],
      "metadata": {
        "id": "pSrLL9o9dXn9"
      }
    },
    {
      "cell_type": "code",
      "source": [
        "#25. Write a Python script to determine the type of a character (uppercase, lowercase, or special) using elif statements.\n",
        "def check_character_type(char):\n",
        "    if char.isupper():\n",
        "        return f\"The character '{char}' is uppercase.\"\n",
        "    elif char.islower():\n",
        "        return f\"The character '{char}' is lowercase.\"\n",
        "    else:\n",
        "        return f\"The character '{char}' is a special character.\"\n",
        "\n",
        "# Example usage\n",
        "char = input(\"Enter a character: \")\n",
        "\n",
        "# Ensure the user entered a single character\n",
        "if len(char) == 1:\n",
        "    result = check_character_type(char)\n",
        "    print(result)\n",
        "else:\n",
        "    print(\"Please enter a single character.\")\n"
      ],
      "metadata": {
        "colab": {
          "base_uri": "https://localhost:8080/"
        },
        "id": "D-qX03VhdYHW",
        "outputId": "1638d607-e609-4a05-b555-fc0a816277ac"
      },
      "execution_count": 26,
      "outputs": [
        {
          "output_type": "stream",
          "name": "stdout",
          "text": [
            "Enter a character: A\n",
            "The character 'A' is uppercase.\n"
          ]
        }
      ]
    },
    {
      "cell_type": "markdown",
      "source": [
        "Explanation:\n",
        "Uppercase Check: The char.isupper() method checks if the character is uppercase.\n",
        "Lowercase Check: The char.islower() method checks if the character is lowercase.\n",
        "Special Character Check: If neither of the above conditions is true, the character is considered a special character."
      ],
      "metadata": {
        "id": "UxZ3Ebsddi3j"
      }
    },
    {
      "cell_type": "code",
      "source": [
        "#26. Implement a program to calculate the discounted price based on different purchase amounts using elif statements.\n",
        "def calculate_discounted_price(amount):\n",
        "    if amount >= 5000:\n",
        "        discount = 0.20  # 20% discount\n",
        "    elif amount >= 3000:\n",
        "        discount = 0.15  # 15% discount\n",
        "    elif amount >= 1000:\n",
        "        discount = 0.10  # 10% discount\n",
        "    else:\n",
        "        discount = 0.05  # 5% discount\n",
        "\n",
        "    discounted_price = amount - (amount * discount)\n",
        "    return f\"Original Price: ₹{amount:.2f}\\nDiscount Applied: {discount*100}%\\nDiscounted Price: ₹{discounted_price:.2f}\"\n",
        "\n",
        "# Example usage\n",
        "purchase_amount = float(input(\"Enter the purchase amount: ₹\"))\n",
        "result = calculate_discounted_price(purchase_amount)\n",
        "print(result)\n"
      ],
      "metadata": {
        "colab": {
          "base_uri": "https://localhost:8080/"
        },
        "id": "30l_8vZFdk1-",
        "outputId": "61ab9d44-b4cd-4dfb-8644-e8d29de0c1f2"
      },
      "execution_count": 27,
      "outputs": [
        {
          "output_type": "stream",
          "name": "stdout",
          "text": [
            "Enter the purchase amount: ₹200\n",
            "Original Price: ₹200.00\n",
            "Discount Applied: 5.0%\n",
            "Discounted Price: ₹190.00\n"
          ]
        }
      ]
    },
    {
      "cell_type": "markdown",
      "source": [
        "Explanation:\n",
        "Discount Rules:\n",
        "If the purchase amount is ₹5000 or more, the discount is 20%.\n",
        "If the purchase amount is ₹3000 to ₹4999, the discount is 15%.\n",
        "If the purchase amount is ₹1000 to ₹2999, the discount is 10%.\n",
        "If the purchase amount is less than ₹1000, the discount is 5%.\n",
        "Calculating Discount:\n",
        "The discount percentage is applied to the purchase amount.\n",
        "The final discounted price is calculated by subtracting the discount from the original price."
      ],
      "metadata": {
        "id": "7cxBaesLdwIT"
      }
    },
    {
      "cell_type": "code",
      "source": [
        "#27. Develop a program to calculate the electricity bill based on different consumption slabs using elif statements.\n",
        "def calculate_electricity_bill(units):\n",
        "    if units <= 100:\n",
        "        rate = 3.50  # ₹3.50 per unit for first 100 units\n",
        "    elif units <= 300:\n",
        "        rate = 5.00  # ₹5.00 per unit for next 200 units\n",
        "    elif units <= 500:\n",
        "        rate = 6.50  # ₹6.50 per unit for next 200 units\n",
        "    else:\n",
        "        rate = 8.00  # ₹8.00 per unit for above 500 units\n",
        "\n",
        "    bill_amount = units * rate\n",
        "    return f\"Total Units Consumed: {units}\\nRate per Unit: ₹{rate:.2f}\\nTotal Bill Amount: ₹{bill_amount:.2f}\"\n",
        "\n",
        "# Example usage\n",
        "units_consumed = int(input(\"Enter the number of electricity units consumed: \"))\n",
        "result = calculate_electricity_bill(units_consumed)\n",
        "print(result)\n"
      ],
      "metadata": {
        "colab": {
          "base_uri": "https://localhost:8080/"
        },
        "id": "5JYlfM8Idw6G",
        "outputId": "f5fb4160-3738-4cb0-dbcc-156fc51d2eff"
      },
      "execution_count": 28,
      "outputs": [
        {
          "output_type": "stream",
          "name": "stdout",
          "text": [
            "Enter the number of electricity units consumed: 250\n",
            "Total Units Consumed: 250\n",
            "Rate per Unit: ₹5.00\n",
            "Total Bill Amount: ₹1250.00\n"
          ]
        }
      ]
    },
    {
      "cell_type": "markdown",
      "source": [
        "Explanation:\n",
        "Electricity Tariff Slabs:\n",
        "\n",
        "Up to 100 units → ₹3.50 per unit\n",
        "101 - 300 units → ₹5.00 per unit\n",
        "301 - 500 units → ₹6.50 per unit\n",
        "Above 500 units → ₹8.00 per unit\n",
        "Bill Calculation:\n",
        "\n",
        "Based on the number of units consumed, the corresponding rate is applied.\n",
        "The total bill is calculated as:\n",
        "Total Bill\n",
        "=\n",
        "Units Consumed\n",
        "×\n",
        "Rate per Unit\n",
        "Total Bill=Units Consumed×Rate per Unit"
      ],
      "metadata": {
        "id": "Cg-ic2twd7lO"
      }
    },
    {
      "cell_type": "code",
      "source": [
        "#28. Create a program to determine the type of quadrilateral based on its angles and sides using elif statements.\n",
        "def determine_quadrilateral(a, b, c, d, angle1, angle2, angle3, angle4):\n",
        "    if a == b == c == d and angle1 == angle2 == angle3 == angle4 == 90:\n",
        "        return \"The quadrilateral is a Square.\"\n",
        "    elif a == c and b == d and angle1 == angle2 == angle3 == angle4 == 90:\n",
        "        return \"The quadrilateral is a Rectangle.\"\n",
        "    elif a == b == c == d and angle1 == angle3 and angle2 == angle4:\n",
        "        return \"The quadrilateral is a Rhombus.\"\n",
        "    elif a == c and b == d and angle1 == angle3 and angle2 == angle4:\n",
        "        return \"The quadrilateral is a Parallelogram.\"\n",
        "    elif (a == c or b == d) and (angle1 + angle2 == 180 or angle3 + angle4 == 180):\n",
        "        return \"The quadrilateral is a Trapezium.\"\n",
        "    else:\n",
        "        return \"The quadrilateral is an Irregular Quadrilateral.\"\n",
        "\n",
        "# Example usage\n",
        "print(\"Enter the lengths of the four sides:\")\n",
        "a = float(input(\"Side 1: \"))\n",
        "b = float(input(\"Side 2: \"))\n",
        "c = float(input(\"Side 3: \"))\n",
        "d = float(input(\"Side 4: \"))\n",
        "\n",
        "print(\"Enter the four angles:\")\n",
        "angle1 = float(input(\"Angle 1: \"))\n",
        "angle2 = float(input(\"Angle 2: \"))\n",
        "angle3 = float(input(\"Angle 3: \"))\n",
        "angle4 = float(input(\"Angle 4: \"))\n",
        "\n",
        "result = determine_quadrilateral(a, b, c, d, angle1, angle2, angle3, angle4)\n",
        "print(result)\n"
      ],
      "metadata": {
        "colab": {
          "base_uri": "https://localhost:8080/"
        },
        "id": "rDqvm1aBd8bk",
        "outputId": "a7796d60-3afe-4890-f995-e31775cfd7a5"
      },
      "execution_count": 29,
      "outputs": [
        {
          "output_type": "stream",
          "name": "stdout",
          "text": [
            "Enter the lengths of the four sides:\n",
            "Side 1: 4\n",
            "Side 2: 4\n",
            "Side 3: 4\n",
            "Side 4: 4\n",
            "Enter the four angles:\n",
            "Angle 1: 90\n",
            "Angle 2: 90\n",
            "Angle 3: 90\n",
            "Angle 4: 90\n",
            "The quadrilateral is a Square.\n"
          ]
        }
      ]
    },
    {
      "cell_type": "markdown",
      "source": [
        "Explanation:\n",
        "Quadrilateral Type Checks:\n",
        "Square: All four sides are equal, and all angles are 90°.\n",
        "Rectangle: Opposite sides are equal, and all angles are 90°.\n",
        "Rhombus: All four sides are equal, but angles may not be 90°, only opposite angles are equal.\n",
        "Parallelogram: Opposite sides are equal, and opposite angles are equal but not necessarily 90°.\n",
        "Trapezium: Only one pair of opposite sides is parallel (sum of two adjacent angles is 180°).\n",
        "Irregular Quadrilateral: Does not fit into any of the above categories."
      ],
      "metadata": {
        "id": "lK0JQfWIeNlF"
      }
    },
    {
      "cell_type": "code",
      "source": [
        "#29. Write a Python script to determine the season based on a user-provided month using elif statements.\n",
        "def determine_season(month):\n",
        "    if month in [\"December\", \"January\", \"February\"]:\n",
        "        return \"Winter\"\n",
        "    elif month in [\"March\", \"April\", \"May\"]:\n",
        "        return \"Spring\"\n",
        "    elif month in [\"June\", \"July\", \"August\"]:\n",
        "        return \"Summer\"\n",
        "    elif month in [\"September\", \"October\", \"November\"]:\n",
        "        return \"Autumn\"\n",
        "    else:\n",
        "        return \"Invalid month. Please enter a valid month name.\"\n",
        "\n",
        "# Example usage\n",
        "month = input(\"Enter the month name: \").strip().capitalize()\n",
        "season = determine_season(month)\n",
        "print(f\"The season in {month} is {season}.\")\n"
      ],
      "metadata": {
        "colab": {
          "base_uri": "https://localhost:8080/"
        },
        "id": "GExP405deOHC",
        "outputId": "55315033-ed5e-4fc8-f9b6-a54c6e965d50"
      },
      "execution_count": 30,
      "outputs": [
        {
          "output_type": "stream",
          "name": "stdout",
          "text": [
            "Enter the month name: march\n",
            "The season in March is Spring.\n"
          ]
        }
      ]
    },
    {
      "cell_type": "code",
      "source": [
        "#30. Implement a program to determine the type of a year (leap or common) and month (30 or 31 days) using elif statements.\n",
        "def determine_year_and_month(year, month):\n",
        "    # Determine if the year is a Leap or Common Year\n",
        "    if (year % 400 == 0) or (year % 4 == 0 and year % 100 != 0):\n",
        "        year_type = \"Leap Year\"\n",
        "    else:\n",
        "        year_type = \"Common Year\"\n",
        "\n",
        "    # Determine the number of days in the given month\n",
        "    if month in [\"January\", \"March\", \"May\", \"July\", \"August\", \"October\", \"December\"]:\n",
        "        days = 31\n",
        "    elif month in [\"April\", \"June\", \"September\", \"November\"]:\n",
        "        days = 30\n",
        "    elif month == \"February\":\n",
        "        days = 29 if year_type == \"Leap Year\" else 28\n",
        "    else:\n",
        "        return \"Invalid month. Please enter a valid month name.\"\n",
        "\n",
        "    return f\"The year {year} is a {year_type}.\\nThe month of {month} has {days} days.\"\n",
        "\n",
        "# Example usage\n",
        "year = int(input(\"Enter the year: \"))\n",
        "month = input(\"Enter the month name: \").strip().capitalize()\n",
        "\n",
        "result = determine_year_and_month(year, month)\n",
        "print(result)\n"
      ],
      "metadata": {
        "colab": {
          "base_uri": "https://localhost:8080/"
        },
        "id": "epnC8fZ6ekLj",
        "outputId": "3575ebe2-366a-4843-8951-b79222df20a6"
      },
      "execution_count": 31,
      "outputs": [
        {
          "output_type": "stream",
          "name": "stdout",
          "text": [
            "Enter the year: 2024\n",
            "Enter the month name: Febuary\n",
            "Invalid month. Please enter a valid month name.\n"
          ]
        }
      ]
    },
    {
      "cell_type": "markdown",
      "source": [
        "Explanation:\n",
        "Leap Year Check:\n",
        "\n",
        "A year is a leap year if:\n",
        "It is divisible by 400, OR\n",
        "It is divisible by 4 but not by 100.\n",
        "Otherwise, it is a common year.\n",
        "Days in Each Month:\n",
        "\n",
        "31 days: January, March, May, July, August, October, December.\n",
        "30 days: April, June, September, November.\n",
        "February:\n",
        "29 days in a leap year.\n",
        "28 days in a common year.\n",
        "Usage of elif statements ensures that only one condition is checked at a time.\n",
        "\n"
      ],
      "metadata": {
        "id": "Qf21xeOyevlh"
      }
    }
  ]
}